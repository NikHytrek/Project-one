{
 "cells": [
  {
   "cell_type": "code",
   "execution_count": 2,
   "metadata": {},
   "outputs": [
    {
     "name": "stderr",
     "output_type": "stream",
     "text": [
      "\n",
      "Attaching package: 'dplyr'\n",
      "\n",
      "The following objects are masked from 'package:stats':\n",
      "\n",
      "    filter, lag\n",
      "\n",
      "The following objects are masked from 'package:base':\n",
      "\n",
      "    intersect, setdiff, setequal, union\n",
      "\n"
     ]
    }
   ],
   "source": [
    "library(dplyr)\n",
    "library(ggplot2)"
   ]
  },
  {
   "cell_type": "code",
   "execution_count": 3,
   "metadata": {},
   "outputs": [],
   "source": [
    "growth = read.csv(\"results_most.csv\")"
   ]
  },
  {
   "cell_type": "code",
   "execution_count": 4,
   "metadata": {
    "scrolled": false
   },
   "outputs": [
    {
     "data": {
      "text/html": [
       "<table>\n",
       "<thead><tr><th scope=col>County</th><th scope=col>Republican</th><th scope=col>Democrat</th><th scope=col>Nonpartisan</th><th scope=col>Libertarian</th><th scope=col>Year</th></tr></thead>\n",
       "<tbody>\n",
       "\t<tr><td>Adams   </td><td>10282   </td><td>5944    </td><td>2789    </td><td>3       </td><td>2008    </td></tr>\n",
       "\t<tr><td>Antelope</td><td> 3012   </td><td>1238    </td><td> 490    </td><td>1       </td><td>2008    </td></tr>\n",
       "\t<tr><td>Arthur  </td><td>  265   </td><td>  66    </td><td>  11    </td><td>0       </td><td>2008    </td></tr>\n",
       "\t<tr><td>Banner  </td><td>  442   </td><td>  62    </td><td>  46    </td><td>0       </td><td>2008    </td></tr>\n",
       "\t<tr><td>Blaine  </td><td>  290   </td><td>  74    </td><td>  25    </td><td>0       </td><td>2008    </td></tr>\n",
       "\t<tr><td>Boone   </td><td> 2475   </td><td>1203    </td><td> 385    </td><td>0       </td><td>2008    </td></tr>\n",
       "</tbody>\n",
       "</table>\n"
      ],
      "text/latex": [
       "\\begin{tabular}{r|llllll}\n",
       " County & Republican & Democrat & Nonpartisan & Libertarian & Year\\\\\n",
       "\\hline\n",
       "\t Adams    & 10282    & 5944     & 2789     & 3        & 2008    \\\\\n",
       "\t Antelope &  3012    & 1238     &  490     & 1        & 2008    \\\\\n",
       "\t Arthur   &   265    &   66     &   11     & 0        & 2008    \\\\\n",
       "\t Banner   &   442    &   62     &   46     & 0        & 2008    \\\\\n",
       "\t Blaine   &   290    &   74     &   25     & 0        & 2008    \\\\\n",
       "\t Boone    &  2475    & 1203     &  385     & 0        & 2008    \\\\\n",
       "\\end{tabular}\n"
      ],
      "text/markdown": [
       "\n",
       "County | Republican | Democrat | Nonpartisan | Libertarian | Year | \n",
       "|---|---|---|---|---|---|\n",
       "| Adams    | 10282    | 5944     | 2789     | 3        | 2008     | \n",
       "| Antelope |  3012    | 1238     |  490     | 1        | 2008     | \n",
       "| Arthur   |   265    |   66     |   11     | 0        | 2008     | \n",
       "| Banner   |   442    |   62     |   46     | 0        | 2008     | \n",
       "| Blaine   |   290    |   74     |   25     | 0        | 2008     | \n",
       "| Boone    |  2475    | 1203     |  385     | 0        | 2008     | \n",
       "\n",
       "\n"
      ],
      "text/plain": [
       "  County   Republican Democrat Nonpartisan Libertarian Year\n",
       "1 Adams    10282      5944     2789        3           2008\n",
       "2 Antelope  3012      1238      490        1           2008\n",
       "3 Arthur     265        66       11        0           2008\n",
       "4 Banner     442        62       46        0           2008\n",
       "5 Blaine     290        74       25        0           2008\n",
       "6 Boone     2475      1203      385        0           2008"
      ]
     },
     "metadata": {},
     "output_type": "display_data"
    },
    {
     "data": {
      "text/html": [
       "<table>\n",
       "<thead><tr><th></th><th scope=col>County</th><th scope=col>Republican</th><th scope=col>Democrat</th><th scope=col>Nonpartisan</th><th scope=col>Libertarian</th><th scope=col>Year</th></tr></thead>\n",
       "<tbody>\n",
       "\t<tr><th scope=row>460</th><td>Valley    </td><td>1919      </td><td> 736      </td><td> 345      </td><td>  8       </td><td>2016      </td></tr>\n",
       "\t<tr><th scope=row>461</th><td>Washington</td><td>8261      </td><td>3203      </td><td>2814      </td><td>124       </td><td>2016      </td></tr>\n",
       "\t<tr><th scope=row>462</th><td>Wayne     </td><td>3308      </td><td>1108      </td><td> 854      </td><td> 47       </td><td>2016      </td></tr>\n",
       "\t<tr><th scope=row>463</th><td>Webster   </td><td>1471      </td><td> 569      </td><td> 377      </td><td> 12       </td><td>2016      </td></tr>\n",
       "\t<tr><th scope=row>464</th><td>Wheeler   </td><td> 419      </td><td> 126      </td><td>  57      </td><td>  4       </td><td>2016      </td></tr>\n",
       "\t<tr><th scope=row>465</th><td>York      </td><td>6724      </td><td>1800      </td><td>1509      </td><td> 72       </td><td>2016      </td></tr>\n",
       "</tbody>\n",
       "</table>\n"
      ],
      "text/latex": [
       "\\begin{tabular}{r|llllll}\n",
       "  & County & Republican & Democrat & Nonpartisan & Libertarian & Year\\\\\n",
       "\\hline\n",
       "\t460 & Valley     & 1919       &  736       &  345       &   8        & 2016      \\\\\n",
       "\t461 & Washington & 8261       & 3203       & 2814       & 124        & 2016      \\\\\n",
       "\t462 & Wayne      & 3308       & 1108       &  854       &  47        & 2016      \\\\\n",
       "\t463 & Webster    & 1471       &  569       &  377       &  12        & 2016      \\\\\n",
       "\t464 & Wheeler    &  419       &  126       &   57       &   4        & 2016      \\\\\n",
       "\t465 & York       & 6724       & 1800       & 1509       &  72        & 2016      \\\\\n",
       "\\end{tabular}\n"
      ],
      "text/markdown": [
       "\n",
       "| <!--/--> | County | Republican | Democrat | Nonpartisan | Libertarian | Year | \n",
       "|---|---|---|---|---|---|\n",
       "| 460 | Valley     | 1919       |  736       |  345       |   8        | 2016       | \n",
       "| 461 | Washington | 8261       | 3203       | 2814       | 124        | 2016       | \n",
       "| 462 | Wayne      | 3308       | 1108       |  854       |  47        | 2016       | \n",
       "| 463 | Webster    | 1471       |  569       |  377       |  12        | 2016       | \n",
       "| 464 | Wheeler    |  419       |  126       |   57       |   4        | 2016       | \n",
       "| 465 | York       | 6724       | 1800       | 1509       |  72        | 2016       | \n",
       "\n",
       "\n"
      ],
      "text/plain": [
       "    County     Republican Democrat Nonpartisan Libertarian Year\n",
       "460 Valley     1919        736      345          8         2016\n",
       "461 Washington 8261       3203     2814        124         2016\n",
       "462 Wayne      3308       1108      854         47         2016\n",
       "463 Webster    1471        569      377         12         2016\n",
       "464 Wheeler     419        126       57          4         2016\n",
       "465 York       6724       1800     1509         72         2016"
      ]
     },
     "metadata": {},
     "output_type": "display_data"
    },
    {
     "data": {
      "text/html": [
       "465"
      ],
      "text/latex": [
       "465"
      ],
      "text/markdown": [
       "465"
      ],
      "text/plain": [
       "[1] 465"
      ]
     },
     "metadata": {},
     "output_type": "display_data"
    }
   ],
   "source": [
    "head(growth)\n",
    "tail(growth)\n",
    "nrow(growth)"
   ]
  },
  {
   "cell_type": "code",
   "execution_count": 5,
   "metadata": {},
   "outputs": [],
   "source": [
    "statewidenp <- growth %>%\n",
    " select(\"Nonpartisan\", \"Year\") %>%\n",
    " group_by(Year) %>%\n",
    " summarize(total = sum(Nonpartisan))"
   ]
  },
  {
   "cell_type": "code",
   "execution_count": null,
   "metadata": {},
   "outputs": [],
   "source": []
  },
  {
   "cell_type": "code",
   "execution_count": 6,
   "metadata": {},
   "outputs": [
    {
     "name": "stdout",
     "output_type": "stream",
     "text": [
      "# A tibble: 5 x 2\n",
      "   Year  total\n",
      "  <int>  <int>\n",
      "1  2008 195459\n",
      "2  2010 212461\n",
      "3  2012 456722\n",
      "4  2014 232628\n",
      "5  2016 246839\n"
     ]
    }
   ],
   "source": [
    "print(statewidenp)"
   ]
  },
  {
   "cell_type": "markdown",
   "metadata": {},
   "source": [
    "For the second, I want to compare the number of nonpartisans to the other parties. I'll want a stacked bar chart for that."
   ]
  },
  {
   "cell_type": "code",
   "execution_count": 7,
   "metadata": {
    "scrolled": false
   },
   "outputs": [
    {
     "data": {},
     "metadata": {},
     "output_type": "display_data"
    },
    {
     "data": {
      "image/png": "[encoded data removed]",
      "text/plain": [
       "plot without title"
      ]
     },
     "metadata": {},
     "output_type": "display_data"
    }
   ],
   "source": [
    "ggplot(statewidenp, aes(x=Year, weight=total)) + geom_bar() + scale_y_continuous(limits = c(0, 500000)) + \n",
    "labs(x=\"Year\", y=\"Total\", title=\"Statewide Growth of Nonpartisans\", subtitle=\"The increase in the amount of nonpartisan voters in Nebraska since 2008.\", \n",
    "     caption=\"Graphic by Nikoel Hytrek | Source: Nebraska Secretary of State\")"
   ]
  },
  {
   "cell_type": "code",
   "execution_count": 17,
   "metadata": {},
   "outputs": [],
   "source": [
    "ggsave(\"nonpart.pdf\", width=6, height=6)"
   ]
  },
  {
   "cell_type": "code",
   "execution_count": 11,
   "metadata": {},
   "outputs": [],
   "source": [
    "statewider <- growth %>%\n",
    " select(\"Republican\", \"Year\") %>%\n",
    " group_by(Year) %>%\n",
    " summarize(total = sum(Republican))"
   ]
  },
  {
   "cell_type": "code",
   "execution_count": 12,
   "metadata": {},
   "outputs": [
    {
     "data": {
      "text/html": [
       "<table>\n",
       "<thead><tr><th scope=col>Year</th><th scope=col>total</th></tr></thead>\n",
       "<tbody>\n",
       "\t<tr><td>2008   </td><td> 558308</td></tr>\n",
       "\t<tr><td>2010   </td><td> 549011</td></tr>\n",
       "\t<tr><td>2012   </td><td>1116290</td></tr>\n",
       "\t<tr><td>2014   </td><td> 549104</td></tr>\n",
       "\t<tr><td>2016   </td><td> 583021</td></tr>\n",
       "</tbody>\n",
       "</table>\n"
      ],
      "text/latex": [
       "\\begin{tabular}{r|ll}\n",
       " Year & total\\\\\n",
       "\\hline\n",
       "\t 2008    &  558308\\\\\n",
       "\t 2010    &  549011\\\\\n",
       "\t 2012    & 1116290\\\\\n",
       "\t 2014    &  549104\\\\\n",
       "\t 2016    &  583021\\\\\n",
       "\\end{tabular}\n"
      ],
      "text/markdown": [
       "\n",
       "Year | total | \n",
       "|---|---|---|---|---|\n",
       "| 2008    |  558308 | \n",
       "| 2010    |  549011 | \n",
       "| 2012    | 1116290 | \n",
       "| 2014    |  549104 | \n",
       "| 2016    |  583021 | \n",
       "\n",
       "\n"
      ],
      "text/plain": [
       "  Year total  \n",
       "1 2008  558308\n",
       "2 2010  549011\n",
       "3 2012 1116290\n",
       "4 2014  549104\n",
       "5 2016  583021"
      ]
     },
     "metadata": {},
     "output_type": "display_data"
    }
   ],
   "source": [
    "head(statewider)"
   ]
  },
  {
   "cell_type": "code",
   "execution_count": 13,
   "metadata": {
    "scrolled": false
   },
   "outputs": [
    {
     "data": {},
     "metadata": {},
     "output_type": "display_data"
    },
    {
     "data": {
      "image/png": "[encoded data removed]",
      "text/plain": [
       "plot without title"
      ]
     },
     "metadata": {},
     "output_type": "display_data"
    }
   ],
   "source": [
    "ggplot(statewider, aes(x=Year, weight=total)) + geom_bar() + labs(x=\"Year\", y=\"Total\", title=\"Statewide Amount of Republicans\", subtitle=\"The number of Republican voters has stayed stable in Nebraska since 2008.\", \n",
    "     caption=\"Graphic by Nikoel Hytrek | Source: Nebraska Secretary of State\")"
   ]
  },
  {
   "cell_type": "code",
   "execution_count": 16,
   "metadata": {},
   "outputs": [],
   "source": [
    "ggsave(\"rep.pdf\", width=6, height=6)"
   ]
  },
  {
   "cell_type": "code",
   "execution_count": 18,
   "metadata": {},
   "outputs": [],
   "source": [
    "statewided <- growth %>%\n",
    " select(\"Democrat\", \"Year\") %>%\n",
    " group_by(Year) %>%\n",
    " summarize(total = sum(Democrat))"
   ]
  },
  {
   "cell_type": "code",
   "execution_count": 19,
   "metadata": {},
   "outputs": [
    {
     "data": {
      "text/html": [
       "<table>\n",
       "<thead><tr><th scope=col>Year</th><th scope=col>total</th></tr></thead>\n",
       "<tbody>\n",
       "\t<tr><td>2008  </td><td>393468</td></tr>\n",
       "\t<tr><td>2010  </td><td>380252</td></tr>\n",
       "\t<tr><td>2012  </td><td>748150</td></tr>\n",
       "\t<tr><td>2014  </td><td>352789</td></tr>\n",
       "\t<tr><td>2016  </td><td>370027</td></tr>\n",
       "</tbody>\n",
       "</table>\n"
      ],
      "text/latex": [
       "\\begin{tabular}{r|ll}\n",
       " Year & total\\\\\n",
       "\\hline\n",
       "\t 2008   & 393468\\\\\n",
       "\t 2010   & 380252\\\\\n",
       "\t 2012   & 748150\\\\\n",
       "\t 2014   & 352789\\\\\n",
       "\t 2016   & 370027\\\\\n",
       "\\end{tabular}\n"
      ],
      "text/markdown": [
       "\n",
       "Year | total | \n",
       "|---|---|---|---|---|\n",
       "| 2008   | 393468 | \n",
       "| 2010   | 380252 | \n",
       "| 2012   | 748150 | \n",
       "| 2014   | 352789 | \n",
       "| 2016   | 370027 | \n",
       "\n",
       "\n"
      ],
      "text/plain": [
       "  Year total \n",
       "1 2008 393468\n",
       "2 2010 380252\n",
       "3 2012 748150\n",
       "4 2014 352789\n",
       "5 2016 370027"
      ]
     },
     "metadata": {},
     "output_type": "display_data"
    }
   ],
   "source": [
    "head(statewided)"
   ]
  },
  {
   "cell_type": "code",
   "execution_count": 20,
   "metadata": {
    "scrolled": false
   },
   "outputs": [
    {
     "data": {},
     "metadata": {},
     "output_type": "display_data"
    },
    {
     "data": {
      "image/png": "[encoded data removed]",
      "text/plain": [
       "plot without title"
      ]
     },
     "metadata": {},
     "output_type": "display_data"
    }
   ],
   "source": [
    "ggplot(statewided, aes(x=Year, weight=total)) + geom_bar() + labs(x=\"Year\", y=\"Total\", title=\"Statewide Number of Democrats\", subtitle=\"The amount of Democrat voters in Nebraska has shrunk since 2008.\", \n",
    "     caption=\"Graphic by Nikoel Hytrek | Source: Nebraska Secretary of State\")"
   ]
  },
  {
   "cell_type": "code",
   "execution_count": 21,
   "metadata": {},
   "outputs": [],
   "source": [
    "ggsave(\"dem.pdf\", width=6, height=6)"
   ]
  },
  {
   "cell_type": "code",
   "execution_count": 22,
   "metadata": {},
   "outputs": [],
   "source": [
    "statewidel <- growth %>%\n",
    " select(\"Libertarian\", \"Year\") %>%\n",
    " group_by(Year) %>%\n",
    " summarize(total = sum(Libertarian))"
   ]
  },
  {
   "cell_type": "code",
   "execution_count": 23,
   "metadata": {},
   "outputs": [
    {
     "data": {
      "text/html": [
       "<table>\n",
       "<thead><tr><th scope=col>Year</th><th scope=col>total</th></tr></thead>\n",
       "<tbody>\n",
       "\t<tr><td>2008 </td><td>  472</td></tr>\n",
       "\t<tr><td>2010 </td><td>  333</td></tr>\n",
       "\t<tr><td>2012 </td><td> 6328</td></tr>\n",
       "\t<tr><td>2014 </td><td> 5631</td></tr>\n",
       "\t<tr><td>2016 </td><td>11214</td></tr>\n",
       "</tbody>\n",
       "</table>\n"
      ],
      "text/latex": [
       "\\begin{tabular}{r|ll}\n",
       " Year & total\\\\\n",
       "\\hline\n",
       "\t 2008  &   472\\\\\n",
       "\t 2010  &   333\\\\\n",
       "\t 2012  &  6328\\\\\n",
       "\t 2014  &  5631\\\\\n",
       "\t 2016  & 11214\\\\\n",
       "\\end{tabular}\n"
      ],
      "text/markdown": [
       "\n",
       "Year | total | \n",
       "|---|---|---|---|---|\n",
       "| 2008  |   472 | \n",
       "| 2010  |   333 | \n",
       "| 2012  |  6328 | \n",
       "| 2014  |  5631 | \n",
       "| 2016  | 11214 | \n",
       "\n",
       "\n"
      ],
      "text/plain": [
       "  Year total\n",
       "1 2008   472\n",
       "2 2010   333\n",
       "3 2012  6328\n",
       "4 2014  5631\n",
       "5 2016 11214"
      ]
     },
     "metadata": {},
     "output_type": "display_data"
    }
   ],
   "source": [
    "head(statewidel)"
   ]
  },
  {
   "cell_type": "code",
   "execution_count": 24,
   "metadata": {},
   "outputs": [
    {
     "data": {},
     "metadata": {},
     "output_type": "display_data"
    },
    {
     "data": {
      "image/png": "[encoded data removed]",
      "text/plain": [
       "plot without title"
      ]
     },
     "metadata": {},
     "output_type": "display_data"
    }
   ],
   "source": [
    "ggplot(statewidel, aes(x=Year, weight=total)) +geom_bar() + scale_y_continuous(limits = c(0, 11500)) + labs(x=\"Year\", y=\"Total\", title=\"Statewide Number of Libertarians\", subtitle=\"If the number of nonpartisans has grown in Nebraska since 2008, libertarian voters have exploded.\", \n",
    "     caption=\"Graphic by Nikoel Hytrek | Source: Nebraska Secretary of State\")"
   ]
  },
  {
   "cell_type": "code",
   "execution_count": 25,
   "metadata": {},
   "outputs": [],
   "source": [
    "ggsave(\"lib.pdf\", width=6, height=6)"
   ]
  }
 ],
 "metadata": {
  "kernelspec": {
   "display_name": "R",
   "language": "R",
   "name": "ir"
  },
  "language_info": {
   "codemirror_mode": "r",
   "file_extension": ".r",
   "mimetype": "text/x-r-source",
   "name": "R",
   "pygments_lexer": "r",
   "version": "3.4.3"
  }
 },
 "nbformat": 4,
 "nbformat_minor": 2
}
